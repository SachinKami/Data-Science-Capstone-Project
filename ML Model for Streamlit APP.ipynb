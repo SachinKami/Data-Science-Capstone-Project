{
 "cells": [
  {
   "cell_type": "code",
   "execution_count": 1,
   "id": "b46ef208",
   "metadata": {
    "ExecuteTime": {
     "end_time": "2023-08-06T14:38:45.846897Z",
     "start_time": "2023-08-06T14:38:45.827766Z"
    }
   },
   "outputs": [],
   "source": [
    "import numpy as np\n",
    "import pandas as pd\n",
    "import matplotlib.pyplot as plt\n",
    "import seaborn as sns\n",
    "from sklearn.model_selection import train_test_split\n",
    "from sklearn.linear_model import LinearRegression\n",
    "from sklearn.linear_model import LogisticRegression\n",
    "from sklearn.metrics import r2_score, confusion_matrix, mean_squared_error\n",
    "from sklearn.preprocessing import StandardScaler\n",
    "import statsmodels.api as sm\n",
    "from statsmodels.stats.outliers_influence import variance_inflation_factor\n",
    "from sklearn.linear_model import Ridge\n",
    "from sklearn.linear_model import Lasso\n",
    "from sklearn.tree import DecisionTreeRegressor\n",
    "from sklearn import tree"
   ]
  },
  {
   "cell_type": "code",
   "execution_count": 2,
   "id": "7225a971",
   "metadata": {
    "ExecuteTime": {
     "end_time": "2023-08-06T14:38:45.879024Z",
     "start_time": "2023-08-06T14:38:45.849861Z"
    }
   },
   "outputs": [
    {
     "data": {
      "text/html": [
       "<div>\n",
       "<style scoped>\n",
       "    .dataframe tbody tr th:only-of-type {\n",
       "        vertical-align: middle;\n",
       "    }\n",
       "\n",
       "    .dataframe tbody tr th {\n",
       "        vertical-align: top;\n",
       "    }\n",
       "\n",
       "    .dataframe thead th {\n",
       "        text-align: right;\n",
       "    }\n",
       "</style>\n",
       "<table border=\"1\" class=\"dataframe\">\n",
       "  <thead>\n",
       "    <tr style=\"text-align: right;\">\n",
       "      <th></th>\n",
       "      <th>name</th>\n",
       "      <th>year</th>\n",
       "      <th>selling_price</th>\n",
       "      <th>km_driven</th>\n",
       "      <th>fuel</th>\n",
       "      <th>seller_type</th>\n",
       "      <th>transmission</th>\n",
       "      <th>owner</th>\n",
       "    </tr>\n",
       "  </thead>\n",
       "  <tbody>\n",
       "    <tr>\n",
       "      <th>0</th>\n",
       "      <td>Maruti 800 AC</td>\n",
       "      <td>2007</td>\n",
       "      <td>60000</td>\n",
       "      <td>70000</td>\n",
       "      <td>Petrol</td>\n",
       "      <td>Individual</td>\n",
       "      <td>Manual</td>\n",
       "      <td>First Owner</td>\n",
       "    </tr>\n",
       "    <tr>\n",
       "      <th>1</th>\n",
       "      <td>Maruti Wagon R LXI Minor</td>\n",
       "      <td>2007</td>\n",
       "      <td>135000</td>\n",
       "      <td>50000</td>\n",
       "      <td>Petrol</td>\n",
       "      <td>Individual</td>\n",
       "      <td>Manual</td>\n",
       "      <td>First Owner</td>\n",
       "    </tr>\n",
       "    <tr>\n",
       "      <th>2</th>\n",
       "      <td>Hyundai Verna 1.6 SX</td>\n",
       "      <td>2012</td>\n",
       "      <td>600000</td>\n",
       "      <td>100000</td>\n",
       "      <td>Diesel</td>\n",
       "      <td>Individual</td>\n",
       "      <td>Manual</td>\n",
       "      <td>First Owner</td>\n",
       "    </tr>\n",
       "    <tr>\n",
       "      <th>3</th>\n",
       "      <td>Datsun RediGO T Option</td>\n",
       "      <td>2017</td>\n",
       "      <td>250000</td>\n",
       "      <td>46000</td>\n",
       "      <td>Petrol</td>\n",
       "      <td>Individual</td>\n",
       "      <td>Manual</td>\n",
       "      <td>First Owner</td>\n",
       "    </tr>\n",
       "    <tr>\n",
       "      <th>4</th>\n",
       "      <td>Honda Amaze VX i-DTEC</td>\n",
       "      <td>2014</td>\n",
       "      <td>450000</td>\n",
       "      <td>141000</td>\n",
       "      <td>Diesel</td>\n",
       "      <td>Individual</td>\n",
       "      <td>Manual</td>\n",
       "      <td>Second Owner</td>\n",
       "    </tr>\n",
       "  </tbody>\n",
       "</table>\n",
       "</div>"
      ],
      "text/plain": [
       "                       name  year  selling_price  km_driven    fuel  \\\n",
       "0             Maruti 800 AC  2007          60000      70000  Petrol   \n",
       "1  Maruti Wagon R LXI Minor  2007         135000      50000  Petrol   \n",
       "2      Hyundai Verna 1.6 SX  2012         600000     100000  Diesel   \n",
       "3    Datsun RediGO T Option  2017         250000      46000  Petrol   \n",
       "4     Honda Amaze VX i-DTEC  2014         450000     141000  Diesel   \n",
       "\n",
       "  seller_type transmission         owner  \n",
       "0  Individual       Manual   First Owner  \n",
       "1  Individual       Manual   First Owner  \n",
       "2  Individual       Manual   First Owner  \n",
       "3  Individual       Manual   First Owner  \n",
       "4  Individual       Manual  Second Owner  "
      ]
     },
     "execution_count": 2,
     "metadata": {},
     "output_type": "execute_result"
    }
   ],
   "source": [
    "df=pd.read_csv(r\"C:\\Users\\Sachin Kamath\\Downloads\\Car Details.csv\",low_memory=False)\n",
    "df.head()"
   ]
  },
  {
   "cell_type": "code",
   "execution_count": 3,
   "id": "01c451f2",
   "metadata": {
    "ExecuteTime": {
     "end_time": "2023-08-06T14:38:45.894889Z",
     "start_time": "2023-08-06T14:38:45.881575Z"
    }
   },
   "outputs": [
    {
     "data": {
      "text/plain": [
       "Index(['name', 'year', 'selling_price', 'km_driven', 'fuel', 'seller_type',\n",
       "       'transmission', 'owner'],\n",
       "      dtype='object')"
      ]
     },
     "execution_count": 3,
     "metadata": {},
     "output_type": "execute_result"
    }
   ],
   "source": [
    "df.columns"
   ]
  },
  {
   "cell_type": "code",
   "execution_count": 4,
   "id": "06be0c3f",
   "metadata": {
    "ExecuteTime": {
     "end_time": "2023-08-06T14:38:45.909934Z",
     "start_time": "2023-08-06T14:38:45.896838Z"
    }
   },
   "outputs": [],
   "source": [
    "df['manufacturer']=df['name'].apply(lambda x:x.split(' ')[0])"
   ]
  },
  {
   "cell_type": "code",
   "execution_count": 5,
   "id": "ccffe2b6",
   "metadata": {
    "ExecuteTime": {
     "end_time": "2023-08-06T14:38:45.924989Z",
     "start_time": "2023-08-06T14:38:45.911549Z"
    }
   },
   "outputs": [],
   "source": [
    "df['model']=df['name'].apply(lambda x:x.split(' ')[1])"
   ]
  },
  {
   "cell_type": "code",
   "execution_count": 6,
   "id": "74c5acf4",
   "metadata": {
    "ExecuteTime": {
     "end_time": "2023-08-06T14:38:45.940174Z",
     "start_time": "2023-08-06T14:38:45.925988Z"
    }
   },
   "outputs": [],
   "source": [
    "data=df"
   ]
  },
  {
   "cell_type": "code",
   "execution_count": 7,
   "id": "ea8d195d",
   "metadata": {
    "ExecuteTime": {
     "end_time": "2023-08-06T14:38:45.971738Z",
     "start_time": "2023-08-06T14:38:45.941760Z"
    }
   },
   "outputs": [
    {
     "name": "stdout",
     "output_type": "stream",
     "text": [
      "Number of Rows:  4340\n",
      "Number of Columns:  10 \n",
      "\n",
      "Columns Names: Index(['name', 'year', 'selling_price', 'km_driven', 'fuel', 'seller_type',\n",
      "       'transmission', 'owner', 'manufacturer', 'model'],\n",
      "      dtype='object') \n",
      "\n",
      "SubSet of Data:\n",
      "                         name  year  selling_price  km_driven    fuel seller_type transmission         owner manufacturer   model\n",
      "0             Maruti 800 AC  2007          60000      70000  Petrol  Individual       Manual   First Owner       Maruti     800\n",
      "1  Maruti Wagon R LXI Minor  2007         135000      50000  Petrol  Individual       Manual   First Owner       Maruti   Wagon\n",
      "2      Hyundai Verna 1.6 SX  2012         600000     100000  Diesel  Individual       Manual   First Owner      Hyundai   Verna\n",
      "3    Datsun RediGO T Option  2017         250000      46000  Petrol  Individual       Manual   First Owner       Datsun  RediGO\n",
      "4     Honda Amaze VX i-DTEC  2014         450000     141000  Diesel  Individual       Manual  Second Owner        Honda   Amaze \n",
      "\n",
      "Data Information: \n",
      "<class 'pandas.core.frame.DataFrame'>\n",
      "RangeIndex: 4340 entries, 0 to 4339\n",
      "Data columns (total 10 columns):\n",
      " #   Column         Non-Null Count  Dtype \n",
      "---  ------         --------------  ----- \n",
      " 0   name           4340 non-null   object\n",
      " 1   year           4340 non-null   int64 \n",
      " 2   selling_price  4340 non-null   int64 \n",
      " 3   km_driven      4340 non-null   int64 \n",
      " 4   fuel           4340 non-null   object\n",
      " 5   seller_type    4340 non-null   object\n",
      " 6   transmission   4340 non-null   object\n",
      " 7   owner          4340 non-null   object\n",
      " 8   manufacturer   4340 non-null   object\n",
      " 9   model          4340 non-null   object\n",
      "dtypes: int64(3), object(7)\n",
      "memory usage: 339.2+ KB\n",
      "None \n",
      "\n",
      "Data Describe:\n",
      "                year  selling_price      km_driven\n",
      "count  4340.000000   4.340000e+03    4340.000000\n",
      "mean   2013.090783   5.041273e+05   66215.777419\n",
      "std       4.215344   5.785487e+05   46644.102194\n",
      "min    1992.000000   2.000000e+04       1.000000\n",
      "25%    2011.000000   2.087498e+05   35000.000000\n",
      "50%    2014.000000   3.500000e+05   60000.000000\n",
      "75%    2016.000000   6.000000e+05   90000.000000\n",
      "max    2020.000000   8.900000e+06  806599.000000 \n",
      "\n"
     ]
    }
   ],
   "source": [
    "#  Data Exploration\n",
    "print('Number of Rows: ', data.shape[0])\n",
    "print('Number of Columns: ', data.shape[1], '\\n')\n",
    "print('Columns Names:', data.columns, '\\n')\n",
    "print('SubSet of Data:\\n ', data.head().to_string(), '\\n')\n",
    "print('Data Information: '); print(data.info(), '\\n')\n",
    "print('Data Describe:\\n ', data.describe(), '\\n')"
   ]
  },
  {
   "cell_type": "code",
   "execution_count": 8,
   "id": "5af97f5e",
   "metadata": {
    "ExecuteTime": {
     "end_time": "2023-08-06T14:38:45.987312Z",
     "start_time": "2023-08-06T14:38:45.973934Z"
    }
   },
   "outputs": [
    {
     "data": {
      "text/plain": [
       "(4340, 10)"
      ]
     },
     "execution_count": 8,
     "metadata": {},
     "output_type": "execute_result"
    }
   ],
   "source": [
    "df.shape"
   ]
  },
  {
   "cell_type": "code",
   "execution_count": 9,
   "id": "3b08d954",
   "metadata": {
    "ExecuteTime": {
     "end_time": "2023-08-06T14:38:46.002379Z",
     "start_time": "2023-08-06T14:38:45.989311Z"
    }
   },
   "outputs": [
    {
     "data": {
      "text/plain": [
       "name             0.0\n",
       "year             0.0\n",
       "selling_price    0.0\n",
       "km_driven        0.0\n",
       "fuel             0.0\n",
       "seller_type      0.0\n",
       "transmission     0.0\n",
       "owner            0.0\n",
       "manufacturer     0.0\n",
       "model            0.0\n",
       "dtype: float64"
      ]
     },
     "execution_count": 9,
     "metadata": {},
     "output_type": "execute_result"
    }
   ],
   "source": [
    "# Top ten columns with missing values %\n",
    "missing = df.count()/len(df)\n",
    "missing = (1-missing)*100\n",
    "missing.sort_values(ascending=False).head(10)"
   ]
  },
  {
   "cell_type": "code",
   "execution_count": 10,
   "id": "e280b067",
   "metadata": {
    "ExecuteTime": {
     "end_time": "2023-08-06T14:38:46.017961Z",
     "start_time": "2023-08-06T14:38:46.004381Z"
    }
   },
   "outputs": [
    {
     "name": "stdout",
     "output_type": "stream",
     "text": [
      "True\n",
      "Number of duplicated data:  763\n"
     ]
    }
   ],
   "source": [
    "# Check for duplicates\n",
    "print(df.duplicated().any())\n",
    "duplicated = df.duplicated()\n",
    "print('Number of duplicated data: ', duplicated[duplicated == True].size)"
   ]
  },
  {
   "cell_type": "code",
   "execution_count": 11,
   "id": "6d998ba3",
   "metadata": {
    "ExecuteTime": {
     "end_time": "2023-08-06T14:38:46.033127Z",
     "start_time": "2023-08-06T14:38:46.018961Z"
    }
   },
   "outputs": [
    {
     "name": "stdout",
     "output_type": "stream",
     "text": [
      "Categorical Data: \n",
      "Fuel unique values:  ['Petrol' 'Diesel' 'CNG' 'LPG' 'Electric']\n",
      "Number of unique values:  5\n",
      "Seller type unique values:  ['Individual' 'Dealer' 'Trustmark Dealer']\n",
      "Number of unique values:  3\n",
      "Transmission unique values:  ['Manual' 'Automatic']\n",
      "Number of unique values:  2\n",
      "Owner unique values:  ['First Owner' 'Second Owner' 'Fourth & Above Owner' 'Third Owner'\n",
      " 'Test Drive Car']\n",
      "Number of unique values:  5\n"
     ]
    }
   ],
   "source": [
    "print('Categorical Data: ')\n",
    "print('Fuel unique values: ', df['fuel'].unique())\n",
    "print('Number of unique values: ', df['fuel'].unique().size)\n",
    "print('Seller type unique values: ', df['seller_type'].unique())\n",
    "print('Number of unique values: ', df['seller_type'].unique().size)\n",
    "print('Transmission unique values: ', df['transmission'].unique())\n",
    "print('Number of unique values: ', df['transmission'].unique().size)\n",
    "print('Owner unique values: ', df['owner'].unique())\n",
    "print('Number of unique values: ', df['owner'].unique().size)"
   ]
  },
  {
   "cell_type": "code",
   "execution_count": 12,
   "id": "3d35714c",
   "metadata": {
    "ExecuteTime": {
     "end_time": "2023-08-06T14:38:46.049033Z",
     "start_time": "2023-08-06T14:38:46.035125Z"
    }
   },
   "outputs": [
    {
     "name": "stdout",
     "output_type": "stream",
     "text": [
      "Unique name of Cars:  1491\n"
     ]
    }
   ],
   "source": [
    "# Unique name cars\n",
    "print('Unique name of Cars: ', df['name'].unique().size)"
   ]
  },
  {
   "cell_type": "code",
   "execution_count": 13,
   "id": "35bdaff9",
   "metadata": {
    "ExecuteTime": {
     "end_time": "2023-08-06T14:38:46.065090Z",
     "start_time": "2023-08-06T14:38:46.051460Z"
    }
   },
   "outputs": [
    {
     "data": {
      "text/html": [
       "<div>\n",
       "<style scoped>\n",
       "    .dataframe tbody tr th:only-of-type {\n",
       "        vertical-align: middle;\n",
       "    }\n",
       "\n",
       "    .dataframe tbody tr th {\n",
       "        vertical-align: top;\n",
       "    }\n",
       "\n",
       "    .dataframe thead th {\n",
       "        text-align: right;\n",
       "    }\n",
       "</style>\n",
       "<table border=\"1\" class=\"dataframe\">\n",
       "  <thead>\n",
       "    <tr style=\"text-align: right;\">\n",
       "      <th></th>\n",
       "      <th>name</th>\n",
       "      <th>year</th>\n",
       "      <th>selling_price</th>\n",
       "      <th>km_driven</th>\n",
       "      <th>fuel</th>\n",
       "      <th>seller_type</th>\n",
       "      <th>transmission</th>\n",
       "      <th>owner</th>\n",
       "      <th>manufacturer</th>\n",
       "      <th>model</th>\n",
       "    </tr>\n",
       "  </thead>\n",
       "  <tbody>\n",
       "    <tr>\n",
       "      <th>0</th>\n",
       "      <td>Maruti 800 AC</td>\n",
       "      <td>2007</td>\n",
       "      <td>60000</td>\n",
       "      <td>70000</td>\n",
       "      <td>Petrol</td>\n",
       "      <td>Individual</td>\n",
       "      <td>Manual</td>\n",
       "      <td>First Owner</td>\n",
       "      <td>Maruti</td>\n",
       "      <td>800</td>\n",
       "    </tr>\n",
       "    <tr>\n",
       "      <th>1</th>\n",
       "      <td>Maruti Wagon R LXI Minor</td>\n",
       "      <td>2007</td>\n",
       "      <td>135000</td>\n",
       "      <td>50000</td>\n",
       "      <td>Petrol</td>\n",
       "      <td>Individual</td>\n",
       "      <td>Manual</td>\n",
       "      <td>First Owner</td>\n",
       "      <td>Maruti</td>\n",
       "      <td>Wagon</td>\n",
       "    </tr>\n",
       "    <tr>\n",
       "      <th>2</th>\n",
       "      <td>Hyundai Verna 1.6 SX</td>\n",
       "      <td>2012</td>\n",
       "      <td>600000</td>\n",
       "      <td>100000</td>\n",
       "      <td>Diesel</td>\n",
       "      <td>Individual</td>\n",
       "      <td>Manual</td>\n",
       "      <td>First Owner</td>\n",
       "      <td>Hyundai</td>\n",
       "      <td>Verna</td>\n",
       "    </tr>\n",
       "    <tr>\n",
       "      <th>3</th>\n",
       "      <td>Datsun RediGO T Option</td>\n",
       "      <td>2017</td>\n",
       "      <td>250000</td>\n",
       "      <td>46000</td>\n",
       "      <td>Petrol</td>\n",
       "      <td>Individual</td>\n",
       "      <td>Manual</td>\n",
       "      <td>First Owner</td>\n",
       "      <td>Datsun</td>\n",
       "      <td>RediGO</td>\n",
       "    </tr>\n",
       "    <tr>\n",
       "      <th>4</th>\n",
       "      <td>Honda Amaze VX i-DTEC</td>\n",
       "      <td>2014</td>\n",
       "      <td>450000</td>\n",
       "      <td>141000</td>\n",
       "      <td>Diesel</td>\n",
       "      <td>Individual</td>\n",
       "      <td>Manual</td>\n",
       "      <td>Second Owner</td>\n",
       "      <td>Honda</td>\n",
       "      <td>Amaze</td>\n",
       "    </tr>\n",
       "    <tr>\n",
       "      <th>...</th>\n",
       "      <td>...</td>\n",
       "      <td>...</td>\n",
       "      <td>...</td>\n",
       "      <td>...</td>\n",
       "      <td>...</td>\n",
       "      <td>...</td>\n",
       "      <td>...</td>\n",
       "      <td>...</td>\n",
       "      <td>...</td>\n",
       "      <td>...</td>\n",
       "    </tr>\n",
       "    <tr>\n",
       "      <th>4335</th>\n",
       "      <td>Hyundai i20 Magna 1.4 CRDi (Diesel)</td>\n",
       "      <td>2014</td>\n",
       "      <td>409999</td>\n",
       "      <td>80000</td>\n",
       "      <td>Diesel</td>\n",
       "      <td>Individual</td>\n",
       "      <td>Manual</td>\n",
       "      <td>Second Owner</td>\n",
       "      <td>Hyundai</td>\n",
       "      <td>i20</td>\n",
       "    </tr>\n",
       "    <tr>\n",
       "      <th>4336</th>\n",
       "      <td>Hyundai i20 Magna 1.4 CRDi</td>\n",
       "      <td>2014</td>\n",
       "      <td>409999</td>\n",
       "      <td>80000</td>\n",
       "      <td>Diesel</td>\n",
       "      <td>Individual</td>\n",
       "      <td>Manual</td>\n",
       "      <td>Second Owner</td>\n",
       "      <td>Hyundai</td>\n",
       "      <td>i20</td>\n",
       "    </tr>\n",
       "    <tr>\n",
       "      <th>4337</th>\n",
       "      <td>Maruti 800 AC BSIII</td>\n",
       "      <td>2009</td>\n",
       "      <td>110000</td>\n",
       "      <td>83000</td>\n",
       "      <td>Petrol</td>\n",
       "      <td>Individual</td>\n",
       "      <td>Manual</td>\n",
       "      <td>Second Owner</td>\n",
       "      <td>Maruti</td>\n",
       "      <td>800</td>\n",
       "    </tr>\n",
       "    <tr>\n",
       "      <th>4338</th>\n",
       "      <td>Hyundai Creta 1.6 CRDi SX Option</td>\n",
       "      <td>2016</td>\n",
       "      <td>865000</td>\n",
       "      <td>90000</td>\n",
       "      <td>Diesel</td>\n",
       "      <td>Individual</td>\n",
       "      <td>Manual</td>\n",
       "      <td>First Owner</td>\n",
       "      <td>Hyundai</td>\n",
       "      <td>Creta</td>\n",
       "    </tr>\n",
       "    <tr>\n",
       "      <th>4339</th>\n",
       "      <td>Renault KWID RXT</td>\n",
       "      <td>2016</td>\n",
       "      <td>225000</td>\n",
       "      <td>40000</td>\n",
       "      <td>Petrol</td>\n",
       "      <td>Individual</td>\n",
       "      <td>Manual</td>\n",
       "      <td>First Owner</td>\n",
       "      <td>Renault</td>\n",
       "      <td>KWID</td>\n",
       "    </tr>\n",
       "  </tbody>\n",
       "</table>\n",
       "<p>4340 rows × 10 columns</p>\n",
       "</div>"
      ],
      "text/plain": [
       "                                     name  year  selling_price  km_driven  \\\n",
       "0                           Maruti 800 AC  2007          60000      70000   \n",
       "1                Maruti Wagon R LXI Minor  2007         135000      50000   \n",
       "2                    Hyundai Verna 1.6 SX  2012         600000     100000   \n",
       "3                  Datsun RediGO T Option  2017         250000      46000   \n",
       "4                   Honda Amaze VX i-DTEC  2014         450000     141000   \n",
       "...                                   ...   ...            ...        ...   \n",
       "4335  Hyundai i20 Magna 1.4 CRDi (Diesel)  2014         409999      80000   \n",
       "4336           Hyundai i20 Magna 1.4 CRDi  2014         409999      80000   \n",
       "4337                  Maruti 800 AC BSIII  2009         110000      83000   \n",
       "4338     Hyundai Creta 1.6 CRDi SX Option  2016         865000      90000   \n",
       "4339                     Renault KWID RXT  2016         225000      40000   \n",
       "\n",
       "        fuel seller_type transmission         owner manufacturer   model  \n",
       "0     Petrol  Individual       Manual   First Owner       Maruti     800  \n",
       "1     Petrol  Individual       Manual   First Owner       Maruti   Wagon  \n",
       "2     Diesel  Individual       Manual   First Owner      Hyundai   Verna  \n",
       "3     Petrol  Individual       Manual   First Owner       Datsun  RediGO  \n",
       "4     Diesel  Individual       Manual  Second Owner        Honda   Amaze  \n",
       "...      ...         ...          ...           ...          ...     ...  \n",
       "4335  Diesel  Individual       Manual  Second Owner      Hyundai     i20  \n",
       "4336  Diesel  Individual       Manual  Second Owner      Hyundai     i20  \n",
       "4337  Petrol  Individual       Manual  Second Owner       Maruti     800  \n",
       "4338  Diesel  Individual       Manual   First Owner      Hyundai   Creta  \n",
       "4339  Petrol  Individual       Manual   First Owner      Renault    KWID  \n",
       "\n",
       "[4340 rows x 10 columns]"
      ]
     },
     "execution_count": 13,
     "metadata": {},
     "output_type": "execute_result"
    }
   ],
   "source": [
    "df"
   ]
  },
  {
   "cell_type": "code",
   "execution_count": 14,
   "id": "b89234dc",
   "metadata": {
    "ExecuteTime": {
     "end_time": "2023-08-06T14:38:46.081766Z",
     "start_time": "2023-08-06T14:38:46.067061Z"
    }
   },
   "outputs": [
    {
     "name": "stdout",
     "output_type": "stream",
     "text": [
      "**********************************************************************************\n",
      "Data Types after Replacement:\n",
      "  name               object\n",
      "year                int64\n",
      "selling_price       int64\n",
      "km_driven           int64\n",
      "fuel               object\n",
      "seller_type        object\n",
      "transmission       object\n",
      "owner              object\n",
      "manufacturer       object\n",
      "model              object\n",
      "number_of_years     int64\n",
      "dtype: object\n",
      "                       name  year  selling_price  km_driven    fuel seller_type transmission         owner manufacturer   model  number_of_years\n",
      "0             Maruti 800 AC  2007          60000      70000  Petrol  Individual       Manual   First Owner       Maruti     800               16\n",
      "1  Maruti Wagon R LXI Minor  2007         135000      50000  Petrol  Individual       Manual   First Owner       Maruti   Wagon               16\n",
      "2      Hyundai Verna 1.6 SX  2012         600000     100000  Diesel  Individual       Manual   First Owner      Hyundai   Verna               11\n",
      "3    Datsun RediGO T Option  2017         250000      46000  Petrol  Individual       Manual   First Owner       Datsun  RediGO                6\n",
      "4     Honda Amaze VX i-DTEC  2014         450000     141000  Diesel  Individual       Manual  Second Owner        Honda   Amaze                9\n"
     ]
    }
   ],
   "source": [
    "df['number_of_years'] = 2023 - df['year']\n",
    "print('**********************************************************************************')\n",
    "print('Data Types after Replacement:\\n ', df.dtypes)\n",
    "print(df.head().to_string())"
   ]
  },
  {
   "cell_type": "code",
   "execution_count": 15,
   "id": "3c9345a0",
   "metadata": {
    "ExecuteTime": {
     "end_time": "2023-08-06T14:38:46.111988Z",
     "start_time": "2023-08-06T14:38:46.083689Z"
    }
   },
   "outputs": [
    {
     "data": {
      "text/html": [
       "<div>\n",
       "<style scoped>\n",
       "    .dataframe tbody tr th:only-of-type {\n",
       "        vertical-align: middle;\n",
       "    }\n",
       "\n",
       "    .dataframe tbody tr th {\n",
       "        vertical-align: top;\n",
       "    }\n",
       "\n",
       "    .dataframe thead th {\n",
       "        text-align: right;\n",
       "    }\n",
       "</style>\n",
       "<table border=\"1\" class=\"dataframe\">\n",
       "  <thead>\n",
       "    <tr style=\"text-align: right;\">\n",
       "      <th></th>\n",
       "      <th>name</th>\n",
       "      <th>year</th>\n",
       "      <th>selling_price</th>\n",
       "      <th>km_driven</th>\n",
       "      <th>fuel</th>\n",
       "      <th>seller_type</th>\n",
       "      <th>transmission</th>\n",
       "      <th>owner</th>\n",
       "      <th>manufacturer</th>\n",
       "      <th>model</th>\n",
       "      <th>number_of_years</th>\n",
       "    </tr>\n",
       "  </thead>\n",
       "  <tbody>\n",
       "    <tr>\n",
       "      <th>0</th>\n",
       "      <td>Maruti 800 AC</td>\n",
       "      <td>2007</td>\n",
       "      <td>60000</td>\n",
       "      <td>70000</td>\n",
       "      <td>Petrol</td>\n",
       "      <td>Individual</td>\n",
       "      <td>Manual</td>\n",
       "      <td>First Owner</td>\n",
       "      <td>Maruti</td>\n",
       "      <td>800</td>\n",
       "      <td>16</td>\n",
       "    </tr>\n",
       "    <tr>\n",
       "      <th>1</th>\n",
       "      <td>Maruti Wagon R LXI Minor</td>\n",
       "      <td>2007</td>\n",
       "      <td>135000</td>\n",
       "      <td>50000</td>\n",
       "      <td>Petrol</td>\n",
       "      <td>Individual</td>\n",
       "      <td>Manual</td>\n",
       "      <td>First Owner</td>\n",
       "      <td>Maruti</td>\n",
       "      <td>Wagon</td>\n",
       "      <td>16</td>\n",
       "    </tr>\n",
       "    <tr>\n",
       "      <th>2</th>\n",
       "      <td>Hyundai Verna 1.6 SX</td>\n",
       "      <td>2012</td>\n",
       "      <td>600000</td>\n",
       "      <td>100000</td>\n",
       "      <td>Diesel</td>\n",
       "      <td>Individual</td>\n",
       "      <td>Manual</td>\n",
       "      <td>First Owner</td>\n",
       "      <td>Hyundai</td>\n",
       "      <td>Verna</td>\n",
       "      <td>11</td>\n",
       "    </tr>\n",
       "    <tr>\n",
       "      <th>3</th>\n",
       "      <td>Datsun RediGO T Option</td>\n",
       "      <td>2017</td>\n",
       "      <td>250000</td>\n",
       "      <td>46000</td>\n",
       "      <td>Petrol</td>\n",
       "      <td>Individual</td>\n",
       "      <td>Manual</td>\n",
       "      <td>First Owner</td>\n",
       "      <td>Datsun</td>\n",
       "      <td>RediGO</td>\n",
       "      <td>6</td>\n",
       "    </tr>\n",
       "    <tr>\n",
       "      <th>4</th>\n",
       "      <td>Honda Amaze VX i-DTEC</td>\n",
       "      <td>2014</td>\n",
       "      <td>450000</td>\n",
       "      <td>141000</td>\n",
       "      <td>Diesel</td>\n",
       "      <td>Individual</td>\n",
       "      <td>Manual</td>\n",
       "      <td>Second Owner</td>\n",
       "      <td>Honda</td>\n",
       "      <td>Amaze</td>\n",
       "      <td>9</td>\n",
       "    </tr>\n",
       "  </tbody>\n",
       "</table>\n",
       "</div>"
      ],
      "text/plain": [
       "                       name  year  selling_price  km_driven    fuel  \\\n",
       "0             Maruti 800 AC  2007          60000      70000  Petrol   \n",
       "1  Maruti Wagon R LXI Minor  2007         135000      50000  Petrol   \n",
       "2      Hyundai Verna 1.6 SX  2012         600000     100000  Diesel   \n",
       "3    Datsun RediGO T Option  2017         250000      46000  Petrol   \n",
       "4     Honda Amaze VX i-DTEC  2014         450000     141000  Diesel   \n",
       "\n",
       "  seller_type transmission         owner manufacturer   model  number_of_years  \n",
       "0  Individual       Manual   First Owner       Maruti     800               16  \n",
       "1  Individual       Manual   First Owner       Maruti   Wagon               16  \n",
       "2  Individual       Manual   First Owner      Hyundai   Verna               11  \n",
       "3  Individual       Manual   First Owner       Datsun  RediGO                6  \n",
       "4  Individual       Manual  Second Owner        Honda   Amaze                9  "
      ]
     },
     "execution_count": 15,
     "metadata": {},
     "output_type": "execute_result"
    }
   ],
   "source": [
    "df.head()"
   ]
  },
  {
   "cell_type": "code",
   "execution_count": 16,
   "id": "cf47fd7f",
   "metadata": {
    "ExecuteTime": {
     "end_time": "2023-08-06T14:38:46.127506Z",
     "start_time": "2023-08-06T14:38:46.112995Z"
    }
   },
   "outputs": [
    {
     "data": {
      "text/html": [
       "<div>\n",
       "<style scoped>\n",
       "    .dataframe tbody tr th:only-of-type {\n",
       "        vertical-align: middle;\n",
       "    }\n",
       "\n",
       "    .dataframe tbody tr th {\n",
       "        vertical-align: top;\n",
       "    }\n",
       "\n",
       "    .dataframe thead th {\n",
       "        text-align: right;\n",
       "    }\n",
       "</style>\n",
       "<table border=\"1\" class=\"dataframe\">\n",
       "  <thead>\n",
       "    <tr style=\"text-align: right;\">\n",
       "      <th></th>\n",
       "      <th>name</th>\n",
       "      <th>selling_price</th>\n",
       "      <th>km_driven</th>\n",
       "      <th>fuel</th>\n",
       "      <th>seller_type</th>\n",
       "      <th>transmission</th>\n",
       "      <th>owner</th>\n",
       "      <th>manufacturer</th>\n",
       "      <th>model</th>\n",
       "      <th>number_of_years</th>\n",
       "    </tr>\n",
       "  </thead>\n",
       "  <tbody>\n",
       "    <tr>\n",
       "      <th>0</th>\n",
       "      <td>Maruti 800 AC</td>\n",
       "      <td>60000</td>\n",
       "      <td>70000</td>\n",
       "      <td>Petrol</td>\n",
       "      <td>Individual</td>\n",
       "      <td>Manual</td>\n",
       "      <td>First Owner</td>\n",
       "      <td>Maruti</td>\n",
       "      <td>800</td>\n",
       "      <td>16</td>\n",
       "    </tr>\n",
       "    <tr>\n",
       "      <th>1</th>\n",
       "      <td>Maruti Wagon R LXI Minor</td>\n",
       "      <td>135000</td>\n",
       "      <td>50000</td>\n",
       "      <td>Petrol</td>\n",
       "      <td>Individual</td>\n",
       "      <td>Manual</td>\n",
       "      <td>First Owner</td>\n",
       "      <td>Maruti</td>\n",
       "      <td>Wagon</td>\n",
       "      <td>16</td>\n",
       "    </tr>\n",
       "    <tr>\n",
       "      <th>2</th>\n",
       "      <td>Hyundai Verna 1.6 SX</td>\n",
       "      <td>600000</td>\n",
       "      <td>100000</td>\n",
       "      <td>Diesel</td>\n",
       "      <td>Individual</td>\n",
       "      <td>Manual</td>\n",
       "      <td>First Owner</td>\n",
       "      <td>Hyundai</td>\n",
       "      <td>Verna</td>\n",
       "      <td>11</td>\n",
       "    </tr>\n",
       "    <tr>\n",
       "      <th>3</th>\n",
       "      <td>Datsun RediGO T Option</td>\n",
       "      <td>250000</td>\n",
       "      <td>46000</td>\n",
       "      <td>Petrol</td>\n",
       "      <td>Individual</td>\n",
       "      <td>Manual</td>\n",
       "      <td>First Owner</td>\n",
       "      <td>Datsun</td>\n",
       "      <td>RediGO</td>\n",
       "      <td>6</td>\n",
       "    </tr>\n",
       "    <tr>\n",
       "      <th>4</th>\n",
       "      <td>Honda Amaze VX i-DTEC</td>\n",
       "      <td>450000</td>\n",
       "      <td>141000</td>\n",
       "      <td>Diesel</td>\n",
       "      <td>Individual</td>\n",
       "      <td>Manual</td>\n",
       "      <td>Second Owner</td>\n",
       "      <td>Honda</td>\n",
       "      <td>Amaze</td>\n",
       "      <td>9</td>\n",
       "    </tr>\n",
       "  </tbody>\n",
       "</table>\n",
       "</div>"
      ],
      "text/plain": [
       "                       name  selling_price  km_driven    fuel seller_type  \\\n",
       "0             Maruti 800 AC          60000      70000  Petrol  Individual   \n",
       "1  Maruti Wagon R LXI Minor         135000      50000  Petrol  Individual   \n",
       "2      Hyundai Verna 1.6 SX         600000     100000  Diesel  Individual   \n",
       "3    Datsun RediGO T Option         250000      46000  Petrol  Individual   \n",
       "4     Honda Amaze VX i-DTEC         450000     141000  Diesel  Individual   \n",
       "\n",
       "  transmission         owner manufacturer   model  number_of_years  \n",
       "0       Manual   First Owner       Maruti     800               16  \n",
       "1       Manual   First Owner       Maruti   Wagon               16  \n",
       "2       Manual   First Owner      Hyundai   Verna               11  \n",
       "3       Manual   First Owner       Datsun  RediGO                6  \n",
       "4       Manual  Second Owner        Honda   Amaze                9  "
      ]
     },
     "execution_count": 16,
     "metadata": {},
     "output_type": "execute_result"
    }
   ],
   "source": [
    "df.drop(['year'],axis=1,inplace=True)\n",
    "\n",
    "df.head()"
   ]
  },
  {
   "cell_type": "code",
   "execution_count": 17,
   "id": "a5ae912a",
   "metadata": {
    "ExecuteTime": {
     "end_time": "2023-08-06T14:38:46.143412Z",
     "start_time": "2023-08-06T14:38:46.128506Z"
    }
   },
   "outputs": [
    {
     "data": {
      "text/plain": [
       "name               object\n",
       "selling_price       int64\n",
       "km_driven           int64\n",
       "fuel               object\n",
       "seller_type        object\n",
       "transmission       object\n",
       "owner              object\n",
       "manufacturer       object\n",
       "model              object\n",
       "number_of_years     int64\n",
       "dtype: object"
      ]
     },
     "execution_count": 17,
     "metadata": {},
     "output_type": "execute_result"
    }
   ],
   "source": [
    "df.dtypes"
   ]
  },
  {
   "cell_type": "code",
   "execution_count": 18,
   "id": "e4bb431a",
   "metadata": {
    "ExecuteTime": {
     "end_time": "2023-08-06T14:38:46.158899Z",
     "start_time": "2023-08-06T14:38:46.144418Z"
    }
   },
   "outputs": [],
   "source": [
    "df.drop('name',axis=1,inplace=True)"
   ]
  },
  {
   "cell_type": "code",
   "execution_count": 19,
   "id": "7483dc7d",
   "metadata": {
    "ExecuteTime": {
     "end_time": "2023-08-06T14:38:46.174884Z",
     "start_time": "2023-08-06T14:38:46.159737Z"
    }
   },
   "outputs": [],
   "source": [
    "categorical_features = df.select_dtypes(include=['object', 'category'])"
   ]
  },
  {
   "cell_type": "code",
   "execution_count": 20,
   "id": "d7e3fd62",
   "metadata": {
    "ExecuteTime": {
     "end_time": "2023-08-06T14:38:46.191567Z",
     "start_time": "2023-08-06T14:38:46.176393Z"
    }
   },
   "outputs": [],
   "source": [
    "categorical_features=list(categorical_features.columns)"
   ]
  },
  {
   "cell_type": "code",
   "execution_count": 21,
   "id": "f67e2546",
   "metadata": {
    "ExecuteTime": {
     "end_time": "2023-08-06T14:38:46.207045Z",
     "start_time": "2023-08-06T14:38:46.193490Z"
    }
   },
   "outputs": [
    {
     "data": {
      "text/plain": [
       "['fuel', 'seller_type', 'transmission', 'owner', 'manufacturer', 'model']"
      ]
     },
     "execution_count": 21,
     "metadata": {},
     "output_type": "execute_result"
    }
   ],
   "source": [
    "categorical_features"
   ]
  },
  {
   "cell_type": "code",
   "execution_count": 22,
   "id": "4d7d1f2f",
   "metadata": {
    "ExecuteTime": {
     "end_time": "2023-08-06T14:38:46.222745Z",
     "start_time": "2023-08-06T14:38:46.208040Z"
    }
   },
   "outputs": [],
   "source": [
    "import pandas as pd\n",
    "from sklearn.base import BaseEstimator, TransformerMixin\n",
    "from sklearn.compose import ColumnTransformer\n",
    "from sklearn.pipeline import Pipeline\n",
    "from sklearn.preprocessing import StandardScaler, OneHotEncoder\n",
    "from sklearn.linear_model import LinearRegression\n",
    "from sklearn.model_selection import train_test_split"
   ]
  },
  {
   "cell_type": "code",
   "execution_count": 23,
   "id": "97079a95",
   "metadata": {
    "ExecuteTime": {
     "end_time": "2023-08-06T14:38:46.238237Z",
     "start_time": "2023-08-06T14:38:46.225711Z"
    }
   },
   "outputs": [
    {
     "name": "stdout",
     "output_type": "stream",
     "text": [
      "(4340, 8)\n",
      "<class 'pandas.core.frame.DataFrame'>\n",
      "(4340,)\n",
      "<class 'pandas.core.series.Series'>\n"
     ]
    }
   ],
   "source": [
    "x=df.drop('selling_price',axis=1)\n",
    "y=df['selling_price']\n",
    "print(x.shape)\n",
    "print(type(x))\n",
    "print(y.shape)\n",
    "print(type(y))"
   ]
  },
  {
   "cell_type": "code",
   "execution_count": 24,
   "id": "6cf20313",
   "metadata": {
    "ExecuteTime": {
     "end_time": "2023-08-06T14:38:46.269877Z",
     "start_time": "2023-08-06T14:38:46.240232Z"
    }
   },
   "outputs": [
    {
     "data": {
      "text/html": [
       "<div>\n",
       "<style scoped>\n",
       "    .dataframe tbody tr th:only-of-type {\n",
       "        vertical-align: middle;\n",
       "    }\n",
       "\n",
       "    .dataframe tbody tr th {\n",
       "        vertical-align: top;\n",
       "    }\n",
       "\n",
       "    .dataframe thead th {\n",
       "        text-align: right;\n",
       "    }\n",
       "</style>\n",
       "<table border=\"1\" class=\"dataframe\">\n",
       "  <thead>\n",
       "    <tr style=\"text-align: right;\">\n",
       "      <th></th>\n",
       "      <th>km_driven</th>\n",
       "      <th>fuel</th>\n",
       "      <th>seller_type</th>\n",
       "      <th>transmission</th>\n",
       "      <th>owner</th>\n",
       "      <th>manufacturer</th>\n",
       "      <th>model</th>\n",
       "      <th>number_of_years</th>\n",
       "    </tr>\n",
       "  </thead>\n",
       "  <tbody>\n",
       "    <tr>\n",
       "      <th>159</th>\n",
       "      <td>175000</td>\n",
       "      <td>Diesel</td>\n",
       "      <td>Individual</td>\n",
       "      <td>Manual</td>\n",
       "      <td>First Owner</td>\n",
       "      <td>Chevrolet</td>\n",
       "      <td>Enjoy</td>\n",
       "      <td>8</td>\n",
       "    </tr>\n",
       "    <tr>\n",
       "      <th>4334</th>\n",
       "      <td>170000</td>\n",
       "      <td>Diesel</td>\n",
       "      <td>Individual</td>\n",
       "      <td>Manual</td>\n",
       "      <td>First Owner</td>\n",
       "      <td>Toyota</td>\n",
       "      <td>Innova</td>\n",
       "      <td>11</td>\n",
       "    </tr>\n",
       "    <tr>\n",
       "      <th>1657</th>\n",
       "      <td>110000</td>\n",
       "      <td>Petrol</td>\n",
       "      <td>Individual</td>\n",
       "      <td>Manual</td>\n",
       "      <td>First Owner</td>\n",
       "      <td>Maruti</td>\n",
       "      <td>Esteem</td>\n",
       "      <td>17</td>\n",
       "    </tr>\n",
       "    <tr>\n",
       "      <th>2188</th>\n",
       "      <td>66521</td>\n",
       "      <td>Petrol</td>\n",
       "      <td>Trustmark Dealer</td>\n",
       "      <td>Manual</td>\n",
       "      <td>First Owner</td>\n",
       "      <td>Honda</td>\n",
       "      <td>City</td>\n",
       "      <td>8</td>\n",
       "    </tr>\n",
       "    <tr>\n",
       "      <th>581</th>\n",
       "      <td>41000</td>\n",
       "      <td>Petrol</td>\n",
       "      <td>Dealer</td>\n",
       "      <td>Manual</td>\n",
       "      <td>First Owner</td>\n",
       "      <td>Chevrolet</td>\n",
       "      <td>Beat</td>\n",
       "      <td>7</td>\n",
       "    </tr>\n",
       "    <tr>\n",
       "      <th>...</th>\n",
       "      <td>...</td>\n",
       "      <td>...</td>\n",
       "      <td>...</td>\n",
       "      <td>...</td>\n",
       "      <td>...</td>\n",
       "      <td>...</td>\n",
       "      <td>...</td>\n",
       "      <td>...</td>\n",
       "    </tr>\n",
       "    <tr>\n",
       "      <th>1033</th>\n",
       "      <td>58500</td>\n",
       "      <td>Diesel</td>\n",
       "      <td>Dealer</td>\n",
       "      <td>Automatic</td>\n",
       "      <td>First Owner</td>\n",
       "      <td>Audi</td>\n",
       "      <td>A6</td>\n",
       "      <td>10</td>\n",
       "    </tr>\n",
       "    <tr>\n",
       "      <th>3264</th>\n",
       "      <td>110000</td>\n",
       "      <td>Diesel</td>\n",
       "      <td>Individual</td>\n",
       "      <td>Manual</td>\n",
       "      <td>First Owner</td>\n",
       "      <td>Chevrolet</td>\n",
       "      <td>Beat</td>\n",
       "      <td>11</td>\n",
       "    </tr>\n",
       "    <tr>\n",
       "      <th>1653</th>\n",
       "      <td>22000</td>\n",
       "      <td>Petrol</td>\n",
       "      <td>Individual</td>\n",
       "      <td>Manual</td>\n",
       "      <td>First Owner</td>\n",
       "      <td>Datsun</td>\n",
       "      <td>RediGO</td>\n",
       "      <td>7</td>\n",
       "    </tr>\n",
       "    <tr>\n",
       "      <th>2607</th>\n",
       "      <td>70000</td>\n",
       "      <td>Diesel</td>\n",
       "      <td>Individual</td>\n",
       "      <td>Manual</td>\n",
       "      <td>First Owner</td>\n",
       "      <td>Volkswagen</td>\n",
       "      <td>Polo</td>\n",
       "      <td>8</td>\n",
       "    </tr>\n",
       "    <tr>\n",
       "      <th>2732</th>\n",
       "      <td>62000</td>\n",
       "      <td>Petrol</td>\n",
       "      <td>Individual</td>\n",
       "      <td>Manual</td>\n",
       "      <td>Second Owner</td>\n",
       "      <td>Maruti</td>\n",
       "      <td>Wagon</td>\n",
       "      <td>10</td>\n",
       "    </tr>\n",
       "  </tbody>\n",
       "</table>\n",
       "<p>3472 rows × 8 columns</p>\n",
       "</div>"
      ],
      "text/plain": [
       "      km_driven    fuel       seller_type transmission         owner  \\\n",
       "159      175000  Diesel        Individual       Manual   First Owner   \n",
       "4334     170000  Diesel        Individual       Manual   First Owner   \n",
       "1657     110000  Petrol        Individual       Manual   First Owner   \n",
       "2188      66521  Petrol  Trustmark Dealer       Manual   First Owner   \n",
       "581       41000  Petrol            Dealer       Manual   First Owner   \n",
       "...         ...     ...               ...          ...           ...   \n",
       "1033      58500  Diesel            Dealer    Automatic   First Owner   \n",
       "3264     110000  Diesel        Individual       Manual   First Owner   \n",
       "1653      22000  Petrol        Individual       Manual   First Owner   \n",
       "2607      70000  Diesel        Individual       Manual   First Owner   \n",
       "2732      62000  Petrol        Individual       Manual  Second Owner   \n",
       "\n",
       "     manufacturer   model  number_of_years  \n",
       "159     Chevrolet   Enjoy                8  \n",
       "4334       Toyota  Innova               11  \n",
       "1657       Maruti  Esteem               17  \n",
       "2188        Honda    City                8  \n",
       "581     Chevrolet    Beat                7  \n",
       "...           ...     ...              ...  \n",
       "1033         Audi      A6               10  \n",
       "3264    Chevrolet    Beat               11  \n",
       "1653       Datsun  RediGO                7  \n",
       "2607   Volkswagen    Polo                8  \n",
       "2732       Maruti   Wagon               10  \n",
       "\n",
       "[3472 rows x 8 columns]"
      ]
     },
     "execution_count": 24,
     "metadata": {},
     "output_type": "execute_result"
    }
   ],
   "source": [
    "x_train, x_test, y_train, y_test = train_test_split(x, y, test_size=0.2, random_state=0)\n",
    "x_train"
   ]
  },
  {
   "cell_type": "code",
   "execution_count": 25,
   "id": "684578c5",
   "metadata": {
    "ExecuteTime": {
     "end_time": "2023-08-06T14:38:46.331503Z",
     "start_time": "2023-08-06T14:38:46.273394Z"
    }
   },
   "outputs": [
    {
     "name": "stdout",
     "output_type": "stream",
     "text": [
      "0.85887327522653\n",
      "0.7937663017611465\n"
     ]
    }
   ],
   "source": [
    "# Create the column transformer for one-hot encoding\n",
    "preprocessor = ColumnTransformer(\n",
    "    transformers=[\n",
    "        ('cat', OneHotEncoder(handle_unknown='ignore'), categorical_features)\n",
    "    ]\n",
    ")\n",
    "\n",
    "# Create the pipeline with preprocessing and linear regression model\n",
    "pipeline = Pipeline([\n",
    "    ('preprocessor', preprocessor),\n",
    "    ('scaler', StandardScaler(with_mean=False)),  # Optionally, you can add a StandardScaler for feature scaling\n",
    "    ('regressor', LinearRegression())\n",
    "])\n",
    "\n",
    "# Fit the pipeline on the training data\n",
    "pipeline.fit(x_train, y_train)\n",
    "\n",
    "score = pipeline.score(x_train, y_train)\n",
    "print(score)\n",
    "\n",
    "# Evaluate the model on the test data (if needed)\n",
    "score = pipeline.score(x_test, y_test)\n",
    "print(score)\n",
    "\n",
    "# Make predictions using the pipeline\n",
    "ypred = pipeline.predict(x_test)\n"
   ]
  },
  {
   "cell_type": "code",
   "execution_count": 26,
   "id": "11271ded",
   "metadata": {
    "ExecuteTime": {
     "end_time": "2023-08-06T14:38:46.346736Z",
     "start_time": "2023-08-06T14:38:46.333710Z"
    }
   },
   "outputs": [],
   "source": [
    "import pickle\n",
    "\n",
    "# Assuming 'pipeline' is the object you want to save\n",
    "with open(r\"C:\\Users\\Sachin Kamath\\Downloads\\pipeline.pkl\", 'wb') as file:\n",
    "    pickle.dump(pipeline, file)\n"
   ]
  },
  {
   "cell_type": "code",
   "execution_count": 27,
   "id": "b114b380",
   "metadata": {
    "ExecuteTime": {
     "end_time": "2023-08-06T14:38:48.981487Z",
     "start_time": "2023-08-06T14:38:46.347736Z"
    }
   },
   "outputs": [
    {
     "name": "stdout",
     "output_type": "stream",
     "text": [
      "Name: scikit-learn\n",
      "Version: 1.2.2\n",
      "Summary: A set of python modules for machine learning and data mining\n",
      "Home-page: http://scikit-learn.org\n",
      "Author: \n",
      "Author-email: \n",
      "License: new BSD\n",
      "Location: c:\\users\\sachin kamath\\appdata\\roaming\\python\\python39\\site-packages\n",
      "Requires: joblib, numpy, scipy, threadpoolctl\n",
      "Required-by: scikit-learn-intelex\n",
      "Note: you may need to restart the kernel to use updated packages.\n"
     ]
    }
   ],
   "source": [
    "pip show scikit-learn"
   ]
  },
  {
   "cell_type": "code",
   "execution_count": 28,
   "id": "87042652",
   "metadata": {
    "ExecuteTime": {
     "end_time": "2023-08-06T14:38:51.687317Z",
     "start_time": "2023-08-06T14:38:48.983410Z"
    }
   },
   "outputs": [],
   "source": [
    "#pip install scikit-learn==1.2.2 --user"
   ]
  },
  {
   "cell_type": "code",
   "execution_count": null,
   "metadata": {},
   "outputs": [],
   "source": []
  }
 ],
 "metadata": {
  "kernelspec": {
   "display_name": "Python 3",
   "language": "python",
   "name": "python3"
  },
  "language_info": {
   "codemirror_mode": {
    "name": "ipython",
    "version": 3
   },
   "file_extension": ".py",
   "mimetype": "text/x-python",
   "name": "python",
   "nbconvert_exporter": "python",
   "pygments_lexer": "ipython3",
   "version": "3.9.13"
  },
  "toc": {
   "base_numbering": 1,
   "nav_menu": {},
   "number_sections": true,
   "sideBar": true,
   "skip_h1_title": false,
   "title_cell": "Table of Contents",
   "title_sidebar": "Contents",
   "toc_cell": false,
   "toc_position": {},
   "toc_section_display": true,
   "toc_window_display": false
  }
 },
 "nbformat": 4,
 "nbformat_minor": 5
}
